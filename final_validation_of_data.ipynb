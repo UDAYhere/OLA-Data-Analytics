{
 "cells": [
  {
   "cell_type": "code",
   "execution_count": 1,
   "id": "c36ca5ac-5869-4f3b-b08a-f9a653a491eb",
   "metadata": {},
   "outputs": [
    {
     "name": "stdout",
     "output_type": "stream",
     "text": [
      "✅ Restored both columns and saved to bookings_validated.csv\n"
     ]
    }
   ],
   "source": [
    "import pandas as pd\n",
    "\n",
    "# Step 1: Load original (raw) data\n",
    "original_df = pd.read_excel(\"Bookings.xlsx\")\n",
    "\n",
    "# Step 2: Load cleaned data\n",
    "cleaned_df = pd.read_csv(\"bookings_validated.csv\")\n",
    "\n",
    "# Step 3: Restore the two columns from original\n",
    "cleaned_df['Canceled_Rides_by_Customer'] = original_df['Canceled_Rides_by_Customer']\n",
    "cleaned_df['Canceled_Rides_by_Driver'] = original_df['Canceled_Rides_by_Driver']\n",
    "\n",
    "# Step 4: Save changes to same CSV (overwrite)\n",
    "cleaned_df.to_csv(\"bookings_validated.csv\", index=False)\n",
    "\n",
    "print(\"✅ Restored both columns and saved to bookings_validated.csv\")\n"
   ]
  },
  {
   "cell_type": "code",
   "execution_count": null,
   "id": "3293e4a4-4cbc-49b1-b782-f515d02edc9e",
   "metadata": {},
   "outputs": [],
   "source": []
  }
 ],
 "metadata": {
  "kernelspec": {
   "display_name": "Python 3 (ipykernel)",
   "language": "python",
   "name": "python3"
  },
  "language_info": {
   "codemirror_mode": {
    "name": "ipython",
    "version": 3
   },
   "file_extension": ".py",
   "mimetype": "text/x-python",
   "name": "python",
   "nbconvert_exporter": "python",
   "pygments_lexer": "ipython3",
   "version": "3.13.5"
  }
 },
 "nbformat": 4,
 "nbformat_minor": 5
}
