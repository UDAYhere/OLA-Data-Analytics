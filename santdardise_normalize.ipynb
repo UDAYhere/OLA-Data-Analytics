{
 "cells": [
  {
   "cell_type": "code",
   "execution_count": null,
   "id": "ee93a16b-b325-407a-bf26-7f4049a5d47a",
   "metadata": {},
   "outputs": [],
   "source": [
    "!pip install scikit-learn"
   ]
  },
  {
   "cell_type": "code",
   "execution_count": null,
   "id": "236a48c0-a705-44bd-b1d3-bda2845a93d2",
   "metadata": {},
   "outputs": [],
   "source": [
    "import pandas as pd\n",
    "import numpy as np\n",
    "import matplotlib.pyplot as plt\n",
    "import seaborn as sns"
   ]
  },
  {
   "cell_type": "code",
   "execution_count": null,
   "id": "408ad11c-7217-4c20-bc34-14f10068cede",
   "metadata": {},
   "outputs": [],
   "source": [
    "from sklearn.preprocessing import StandardScaler, MinMaxScaler\n",
    "\n",
    "# Load the dataset from the previous step\n",
    "# Replace 'bookings_outliers_handled.csv' with the actual file path if not in the same directory\n",
    "file_path = 'bookings_outliers_handled.csv'\n",
    "data_cleaned = pd.read_csv(file_path)\n",
    "\n",
    "# Create a copy of the dataset to preserve the loaded data\n",
    "data_processed = data_cleaned.copy()"
   ]
  },
  {
   "cell_type": "code",
   "execution_count": null,
   "id": "5c0f6101-5f0f-442a-85c2-28075f9fa722",
   "metadata": {},
   "outputs": [],
   "source": [
    "# Step 1: Inspect numeric columns\n",
    "numeric_columns = ['V_TAT', 'C_TAT', 'Booking_Value', 'Ride_Distance', 'Driver_Ratings', 'Customer_Rating']\n",
    "print(\"Summary Statistics Before Standardization/Normalization:\")\n",
    "display(data_processed[numeric_columns].describe())"
   ]
  },
  {
   "cell_type": "code",
   "execution_count": null,
   "id": "2b7374d9-243c-457c-85e2-f689e1cd3a82",
   "metadata": {},
   "outputs": [],
   "source": [
    "# Step 2: Initialize scalers\n",
    "standard_scaler = StandardScaler()\n",
    "minmax_scaler = MinMaxScaler()"
   ]
  },
  {
   "cell_type": "code",
   "execution_count": null,
   "id": "f4778b05-4265-44f8-93f2-5ffba9cb4f03",
   "metadata": {},
   "outputs": [],
   "source": [
    "# Step 3: Standardize and normalize numeric columns\n",
    "for col in numeric_columns:\n",
    "    # Standardize: Create new column with _std suffix\n",
    "    data_processed[f'{col}_std'] = standard_scaler.fit_transform(data_processed[[col]])\n",
    "    # Normalize: Create new column with _norm suffix\n",
    "    data_processed[f'{col}_norm'] = minmax_scaler.fit_transform(data_processed[[col]])"
   ]
  },
  {
   "cell_type": "code",
   "execution_count": null,
   "id": "d6c9b01c-07c4-4c4a-8da9-c9ad83add581",
   "metadata": {},
   "outputs": [],
   "source": [
    "# Step 4: Handle Canceled_Rides_by_Customer and Canceled_Rides_by_Driver if they exist and are numeric\n",
    "for col in ['Canceled_Rides_by_Customer', 'Canceled_Rides_by_Driver']:\n",
    "    if col in data_processed.columns and data_processed[col].dtype == 'float64':\n",
    "        data_processed[f'{col}_std'] = standard_scaler.fit_transform(data_processed[[col]])\n",
    "        data_processed[f'{col}_norm'] = minmax_scaler.fit_transform(data_processed[[col]])\n",
    "        print(f\"\\nStandardized and normalized {col}\")\n",
    "    elif col in data_processed.columns:\n",
    "        print(f\"\\nSkipping {col}: Contains non-numeric data (string).\")"
   ]
  },
  {
   "cell_type": "code",
   "execution_count": null,
   "id": "69c61a38-b104-424e-b644-6b8745266c09",
   "metadata": {},
   "outputs": [],
   "source": [
    "# Step 5: Validate transformations\n",
    "print(\"\\nSummary Statistics for Standardized Columns:\")\n",
    "std_columns = [f'{col}_std' for col in numeric_columns]\n",
    "display(data_processed[std_columns].describe())\n",
    "\n",
    "print(\"\\nSummary Statistics for Normalized Columns:\")\n",
    "norm_columns = [f'{col}_norm' for col in numeric_columns]\n",
    "display(data_processed[norm_columns].describe())"
   ]
  },
  {
   "cell_type": "code",
   "execution_count": null,
   "id": "5435d411-d0ee-469b-a6e8-d89e511bcc3f",
   "metadata": {},
   "outputs": [],
   "source": [
    "# Step 6: Save the dataset with standardized and normalized columns\n",
    "data_processed.to_csv('bookings_standardized_normalized.csv', index=False)\n",
    "print(\"Dataset with standardized and normalized columns saved as 'bookings_standardized_normalized.csv'\")"
   ]
  }
 ],
 "metadata": {
  "kernelspec": {
   "display_name": "Python 3 (ipykernel)",
   "language": "python",
   "name": "python3"
  },
  "language_info": {
   "codemirror_mode": {
    "name": "ipython",
    "version": 3
   },
   "file_extension": ".py",
   "mimetype": "text/x-python",
   "name": "python",
   "nbconvert_exporter": "python",
   "pygments_lexer": "ipython3",
   "version": "3.13.5"
  }
 },
 "nbformat": 4,
 "nbformat_minor": 5
}
