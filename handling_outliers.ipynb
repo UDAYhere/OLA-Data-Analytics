{
 "cells": [
  {
   "cell_type": "code",
   "execution_count": null,
   "id": "852185c2-f05a-41ed-a5dc-caee4ce52be1",
   "metadata": {},
   "outputs": [],
   "source": [
    "import pandas as pd\n",
    "import numpy as np\n",
    "import matplotlib.pyplot as plt\n",
    "import seaborn as sns"
   ]
  },
  {
   "cell_type": "code",
   "execution_count": null,
   "id": "c86b195f-23d3-417e-9455-f6d16d022343",
   "metadata": {},
   "outputs": [],
   "source": [
    "# Load the dataset from the previous step\n",
    "# Replace 'bookings_corrected_datatypes.csv' with the actual file path if not in the same directory\n",
    "file_path = 'bookings_corrected_datatypes.csv'\n",
    "data_corrected = pd.read_csv(file_path)"
   ]
  },
  {
   "cell_type": "code",
   "execution_count": null,
   "id": "cdccde58-2bc1-4235-95b6-59c3b2fdd905",
   "metadata": {},
   "outputs": [],
   "source": [
    "# Create a copy of the dataset to preserve the loaded data\n",
    "data_cleaned = data_corrected.copy()"
   ]
  },
  {
   "cell_type": "code",
   "execution_count": null,
   "id": "71630c30-8de5-4ed6-9598-0b8a89afe720",
   "metadata": {},
   "outputs": [],
   "source": [
    "# Step 1: Inspect numeric columns\n",
    "numeric_columns = ['V_TAT', 'C_TAT', 'Booking_Value', 'Ride_Distance', 'Driver_Ratings', 'Customer_Rating']\n",
    "print(\"Summary Statistics Before Handling Outliers:\")\n",
    "display(data_cleaned[numeric_columns].describe())"
   ]
  },
  {
   "cell_type": "code",
   "execution_count": null,
   "id": "12a0450a-d173-407a-9727-3a680f1ab6bd",
   "metadata": {},
   "outputs": [],
   "source": [
    "# Step 2: Handle outliers for numeric columns\n",
    "for col in numeric_columns:\n",
    "    if col in ['Driver_Ratings', 'Customer_Rating']:\n",
    "        # Cap ratings between 0 and 5\n",
    "        data_cleaned[col] = data_cleaned[col].clip(lower=0, upper=5)\n",
    "        print(f\"\\nRatings capped between 0 and 5 for {col}\")\n",
    "    else:\n",
    "        # Calculate Q1, Q3, and IQR for other numeric columns\n",
    "        Q1 = data_cleaned[col].quantile(0.25)\n",
    "        Q3 = data_cleaned[col].quantile(0.75)\n",
    "        IQR = Q3 - Q1\n",
    "        lower_bound = Q1 - 1.5 * IQR\n",
    "        upper_bound = Q3 + 1.5 * IQR\n",
    "        \n",
    "        # Cap outliers at 5th and 95th percentiles\n",
    "        lower_cap = data_cleaned[col].quantile(0.05)\n",
    "        upper_cap = data_cleaned[col].quantile(0.95)\n",
    "        data_cleaned[col] = data_cleaned[col].clip(lower=lower_cap, upper=upper_cap)\n",
    "        print(f\"\\nOutliers capped for {col}:\")\n",
    "        print(f\"Lower cap (5th percentile): {lower_cap:.2f}\")\n",
    "        print(f\"Upper cap (95th percentile): {upper_cap:.2f}\")"
   ]
  },
  {
   "cell_type": "code",
   "execution_count": null,
   "id": "dbdaf594-5279-49b6-988a-fee70b8e56fe",
   "metadata": {},
   "outputs": [],
   "source": [
    "# Step 3: Handle Canceled_Rides_by_Customer and Canceled_Rides_by_Driver if they exist and are numeric\n",
    "for col in ['Canceled_Rides_by_Customer', 'Canceled_Rides_by_Driver']:\n",
    "    if col in data_cleaned.columns:\n",
    "        if data_cleaned[col].dtype == 'float64':\n",
    "            Q1 = data_cleaned[col].quantile(0.25)\n",
    "            Q3 = data_cleaned[col].quantile(0.75)\n",
    "            IQR = Q3 - Q1\n",
    "            lower_cap = data_cleaned[col].quantile(0.05)\n",
    "            upper_cap = data_cleaned[col].quantile(0.95)\n",
    "            data_cleaned[col] = data_cleaned[col].clip(lower=lower_cap, upper=upper_cap)\n",
    "            print(f\"\\nOutliers capped for {col}:\")\n",
    "            print(f\"Lower cap (5th percentile): {lower_cap:.2f}\")\n",
    "            print(f\"Upper cap (95th percentile): {upper_cap:.2f}\")\n",
    "        else:\n",
    "            print(f\"\\nSkipping {col}: Contains non-numeric data (string).\")"
   ]
  },
  {
   "cell_type": "code",
   "execution_count": null,
   "id": "965d8ce2-6192-4bcf-b9dc-4f188f7a4d6c",
   "metadata": {},
   "outputs": [],
   "source": [
    "# Step 4: Validate outliers\n",
    "print(\"\\nSummary Statistics After Handling Outliers:\")\n",
    "display(data_cleaned[numeric_columns].describe())"
   ]
  },
  {
   "cell_type": "code",
   "execution_count": null,
   "id": "61c327cd-44b2-4c32-825d-e308371f8fb6",
   "metadata": {},
   "outputs": [],
   "source": [
    "# Step 5: Save the dataset with handled outliers\n",
    "data_cleaned.to_csv('bookings_outliers_handled.csv', index=False)\n",
    "print(\"Dataset with handled outliers saved as 'bookings_outliers_handled.csv'\")"
   ]
  }
 ],
 "metadata": {
  "kernelspec": {
   "display_name": "Python 3 (ipykernel)",
   "language": "python",
   "name": "python3"
  },
  "language_info": {
   "codemirror_mode": {
    "name": "ipython",
    "version": 3
   },
   "file_extension": ".py",
   "mimetype": "text/x-python",
   "name": "python",
   "nbconvert_exporter": "python",
   "pygments_lexer": "ipython3",
   "version": "3.13.5"
  }
 },
 "nbformat": 4,
 "nbformat_minor": 5
}
