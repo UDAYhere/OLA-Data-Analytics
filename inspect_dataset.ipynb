{
 "cells": [
  {
   "cell_type": "code",
   "execution_count": null,
   "id": "046a21d5-ec1d-438d-9325-7260a9f5e66e",
   "metadata": {},
   "outputs": [],
   "source": [
    "#step 1: installing all the recommended library\n",
    "!pip install pandas numpy matplotlib seaborn openpyxl"
   ]
  },
  {
   "cell_type": "code",
   "execution_count": null,
   "id": "ccfece4f-e131-42d1-9aef-cd071085cbd0",
   "metadata": {},
   "outputs": [],
   "source": [
    "# Step 2: Import libraries\n",
    "import pandas as pd\n",
    "import numpy as np\n",
    "import matplotlib.pyplot as plt\n",
    "import seaborn as sns"
   ]
  },
  {
   "cell_type": "code",
   "execution_count": null,
   "id": "5fc5cea5-d107-4f07-8bb2-74a13c75bc54",
   "metadata": {},
   "outputs": [],
   "source": [
    "# Step 3: Load the dataset (July sheet from Bookings.xlsx)\n",
    "file_path = 'Bookings.xlsx'\n",
    "data = pd.read_excel(file_path, sheet_name='July', engine='openpyxl')"
   ]
  },
  {
   "cell_type": "code",
   "execution_count": null,
   "id": "1b6a09a0-952d-41ff-8069-d98e6b9ec51f",
   "metadata": {},
   "outputs": [],
   "source": [
    "# Step 4: Inspect the dataset\n",
    "# Display the first 5 rows\n",
    "print(\"First 5 rows of the dataset:\")\n",
    "display(data.head())\n",
    "\n",
    "# Display basic information about the dataset (data types, non-null counts)\n",
    "print(\"\\nDataset Info:\")\n",
    "data.info()\n",
    "\n",
    "# Display summary statistics for numeric columns\n",
    "print(\"\\nSummary Statistics:\")\n",
    "display(data.describe())\n",
    "\n",
    "# Check for missing values\n",
    "print(\"\\nMissing Values:\")\n",
    "display(data.isnull().sum())\n",
    "\n",
    "# Check for duplicate rows\n",
    "print(\"\\nNumber of Duplicate Rows:\")\n",
    "display(data.duplicated().sum())"
   ]
  }
 ],
 "metadata": {
  "kernelspec": {
   "display_name": "Python 3 (ipykernel)",
   "language": "python",
   "name": "python3"
  },
  "language_info": {
   "codemirror_mode": {
    "name": "ipython",
    "version": 3
   },
   "file_extension": ".py",
   "mimetype": "text/x-python",
   "name": "python",
   "nbconvert_exporter": "python",
   "pygments_lexer": "ipython3",
   "version": "3.13.5"
  }
 },
 "nbformat": 4,
 "nbformat_minor": 5
}
