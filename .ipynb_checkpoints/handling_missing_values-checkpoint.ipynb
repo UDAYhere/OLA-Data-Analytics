{
 "cells": [
  {
   "cell_type": "code",
   "execution_count": null,
   "id": "8dfba144-8eab-4e89-9c9c-57f82b9a7b05",
   "metadata": {},
   "outputs": [],
   "source": [
    "# Step 1: Import libraries\n",
    "import pandas as pd\n",
    "import numpy as np\n",
    "import matplotlib.pyplot as plt\n",
    "import seaborn as sns"
   ]
  },
  {
   "cell_type": "code",
   "execution_count": null,
   "id": "fa6768eb-b84f-4e99-bf46-46307449a367",
   "metadata": {},
   "outputs": [],
   "source": [
    "# Step 2: Load the dataset (July sheet from Bookings.xlsx)\n",
    "file_path = 'Bookings.xlsx'\n",
    "data = pd.read_excel(file_path, sheet_name='July', engine='openpyxl')"
   ]
  },
  {
   "cell_type": "code",
   "execution_count": null,
   "id": "b7b6fc29-eed6-4f0b-bdc5-7f96d18c9c24",
   "metadata": {},
   "outputs": [],
   "source": [
    "# Create a copy of the dataset to preserve the original\n",
    "data_cleaned = data.copy()"
   ]
  },
  {
   "cell_type": "code",
   "execution_count": null,
   "id": "77239c9d-5a24-4971-9c7d-2d2cc805c5f7",
   "metadata": {},
   "outputs": [],
   "source": [
    "# Step 3: Handle missing values for numeric columns\n",
    "# For non-successful rides (Canceled by Customer, Canceled by Driver, Driver Not Found), impute with 0\n",
    "non_successful_status = ['Canceled by Customer', 'Canceled by Driver', 'Driver Not Found']\n",
    "numeric_columns = ['V_TAT', 'C_TAT', 'Booking_Value', 'Ride_Distance', 'Driver_Ratings', 'Customer_Rating']\n",
    "\n",
    "for col in numeric_columns:\n",
    "    # Impute 0 for non-successful rides\n",
    "    data_cleaned.loc[data_cleaned['Booking_Status'].isin(non_successful_status), col] = data_cleaned.loc[data_cleaned['Booking_Status'].isin(non_successful_status), col].fillna(0)\n",
    "    # For successful rides, impute with median (if any missing values remain)\n",
    "    if data_cleaned[col].isnull().sum() > 0:\n",
    "        median_value = data_cleaned.loc[data_cleaned['Booking_Status'] == 'Success', col].median()\n",
    "        data_cleaned[col].fillna(median_value, inplace=True)"
   ]
  },
  {
   "cell_type": "code",
   "execution_count": null,
   "id": "467dbc5b-3e7b-40b1-b282-f2da28a2a975",
   "metadata": {},
   "outputs": [],
   "source": [
    "# Step 4: Handle missing values for categorical columns\n",
    "# Impute 'None' for Payment_Method in non-successful rides\n",
    "data_cleaned.loc[data_cleaned['Booking_Status'].isin(non_successful_status), 'Payment_Method'] = data_cleaned.loc[data_cleaned['Booking_Status'].isin(non_successful_status), 'Payment_Method'].fillna('None')\n",
    "\n",
    "# Impute 'None' for Incomplete_Rides_Reason in successful rides\n",
    "data_cleaned.loc[data_cleaned['Booking_Status'] == 'Success', 'Incomplete_Rides_Reason'] = data_cleaned.loc[data_cleaned['Booking_Status'] == 'Success', 'Incomplete_Rides_Reason'].fillna('None')"
   ]
  },
  {
   "cell_type": "code",
   "execution_count": null,
   "id": "7bafa5b6-866a-4cbb-b5f6-869516a55c61",
   "metadata": {},
   "outputs": [],
   "source": [
    "# Step 5: Handle Incomplete_Rides (boolean-like)\n",
    "# Impute 'No' for successful rides, 'Yes' for non-successful rides with a reason\n",
    "data_cleaned.loc[data_cleaned['Booking_Status'] == 'Success', 'Incomplete_Rides'] = data_cleaned.loc[data_cleaned['Booking_Status'] == 'Success', 'Incomplete_Rides'].fillna('No')\n",
    "data_cleaned.loc[data_cleaned['Incomplete_Rides_Reason'].notnull(), 'Incomplete_Rides'] = data_cleaned.loc[data_cleaned['Incomplete_Rides_Reason'].notnull(), 'Incomplete_Rides'].fillna('Yes')"
   ]
  },
  {
   "cell_type": "code",
   "execution_count": null,
   "id": "2010faed-afbd-45db-b53d-7e1a62976de5",
   "metadata": {},
   "outputs": [],
   "source": [
    "# Step 6: Drop redundant columns (if entirely null or not needed)\n",
    "# Check if Canceled_Rides_by_Customer and Canceled_Rides_by_Driver are entirely null\n",
    "if data_cleaned['Canceled_Rides_by_Customer'].isnull().all() and data_cleaned['Canceled_Rides_by_Driver'].isnull().all():\n",
    "    data_cleaned.drop(columns=['Canceled_Rides_by_Customer', 'Canceled_Rides_by_Driver'], inplace=True)"
   ]
  },
  {
   "cell_type": "code",
   "execution_count": null,
   "id": "b1b934ed-a40a-431d-98fc-c084053a6a19",
   "metadata": {},
   "outputs": [],
   "source": [
    "# Step 7: Validate missing values\n",
    "print(\"Missing Values After Handling:\")\n",
    "display(data_cleaned.isnull().sum())"
   ]
  },
  {
   "cell_type": "code",
   "execution_count": null,
   "id": "aa95ea14-02b4-475f-bb7a-f756064694de",
   "metadata": {},
   "outputs": [],
   "source": [
    "# Step 8: Save the cleaned dataset\n",
    "data_cleaned.to_csv('cleaned_bookings.csv', index=False)\n",
    "print(\"Cleaned dataset saved as 'cleaned_bookings.csv'\")"
   ]
  }
 ],
 "metadata": {
  "kernelspec": {
   "display_name": "Python 3 (ipykernel)",
   "language": "python",
   "name": "python3"
  },
  "language_info": {
   "codemirror_mode": {
    "name": "ipython",
    "version": 3
   },
   "file_extension": ".py",
   "mimetype": "text/x-python",
   "name": "python",
   "nbconvert_exporter": "python",
   "pygments_lexer": "ipython3",
   "version": "3.13.5"
  }
 },
 "nbformat": 4,
 "nbformat_minor": 5
}
