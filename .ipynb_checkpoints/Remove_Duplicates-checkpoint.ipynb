{
 "cells": [
  {
   "cell_type": "code",
   "execution_count": null,
   "id": "8a0101a3-6f43-4670-add1-263eb4e0f6a7",
   "metadata": {},
   "outputs": [],
   "source": [
    "import pandas as pd\n",
    "import numpy as np\n",
    "import matplotlib.pyplot as plt\n",
    "import seaborn as sns"
   ]
  },
  {
   "cell_type": "code",
   "execution_count": null,
   "id": "d85c6fdc-a776-489d-a5bd-d5a20b1bdd50",
   "metadata": {},
   "outputs": [],
   "source": [
    "# Load the cleaned dataset from the previous step\n",
    "# Replace 'cleaned_bookings.csv' with the actual file path if not in the same directory\n",
    "file_path = 'cleaned_bookings.csv'\n",
    "data_cleaned = pd.read_csv(file_path)\n",
    "\n",
    "# Create a copy of the dataset to preserve the loaded data\n",
    "data_no_duplicates = data_cleaned.copy()"
   ]
  },
  {
   "cell_type": "code",
   "execution_count": null,
   "id": "86db0390-70fc-4bdb-bdd1-a2d8e123be0e",
   "metadata": {},
   "outputs": [],
   "source": [
    "# Step 1: Check for duplicates based on all columns\n",
    "print(\"Number of Duplicate Rows (All Columns):\")\n",
    "display(data_no_duplicates.duplicated().sum())"
   ]
  },
  {
   "cell_type": "code",
   "execution_count": null,
   "id": "a79de7da-8e60-4311-9e64-770f8979dd7c",
   "metadata": {},
   "outputs": [],
   "source": [
    "# Step 2: Check for duplicates based on Booking_ID (should be unique)\n",
    "print(\"\\nNumber of Duplicate Booking_IDs:\")\n",
    "display(data_no_duplicates.duplicated(subset=['Booking_ID']).sum())"
   ]
  },
  {
   "cell_type": "code",
   "execution_count": null,
   "id": "83d021a9-996b-4c52-8915-c5c6bda48048",
   "metadata": {},
   "outputs": [],
   "source": [
    "# Step 3: Remove duplicates based on all columns, keeping the first occurrence\n",
    "data_no_duplicates.drop_duplicates(keep='first', inplace=True)"
   ]
  },
  {
   "cell_type": "code",
   "execution_count": null,
   "id": "658420bc-05ed-44cf-ae8e-9926dc93dc3b",
   "metadata": {},
   "outputs": [],
   "source": [
    "# Step 4: Validate duplicates after removal\n",
    "print(\"\\nNumber of Duplicate Rows After Removal (All Columns):\")\n",
    "display(data_no_duplicates.duplicated().sum())\n",
    "\n",
    "print(\"\\nNumber of Duplicate Booking_IDs After Removal:\")\n",
    "display(data_no_duplicates.duplicated(subset=['Booking_ID']).sum())"
   ]
  },
  {
   "cell_type": "code",
   "execution_count": null,
   "id": "4e2e11bf-3f82-4630-a51f-d850b8e8a4d8",
   "metadata": {},
   "outputs": [],
   "source": [
    "# Step 5: Display dataset size before and after\n",
    "print(\"\\nDataset Size Before Duplicate Removal:\", len(data_cleaned))\n",
    "print(\"Dataset Size After Duplicate Removal:\", len(data_no_duplicates))"
   ]
  },
  {
   "cell_type": "code",
   "execution_count": null,
   "id": "be356ab3-5336-43cc-860f-cea8be0d98ae",
   "metadata": {},
   "outputs": [],
   "source": [
    "# Step 6: Save the dataset without duplicates\n",
    "data_no_duplicates.to_csv('bookings_no_duplicates.csv', index=False)\n",
    "print(\"Dataset without duplicates saved as 'bookings_no_duplicates.csv'\")"
   ]
  }
 ],
 "metadata": {
  "kernelspec": {
   "display_name": "Python 3 (ipykernel)",
   "language": "python",
   "name": "python3"
  },
  "language_info": {
   "codemirror_mode": {
    "name": "ipython",
    "version": 3
   },
   "file_extension": ".py",
   "mimetype": "text/x-python",
   "name": "python",
   "nbconvert_exporter": "python",
   "pygments_lexer": "ipython3",
   "version": "3.13.5"
  }
 },
 "nbformat": 4,
 "nbformat_minor": 5
}
