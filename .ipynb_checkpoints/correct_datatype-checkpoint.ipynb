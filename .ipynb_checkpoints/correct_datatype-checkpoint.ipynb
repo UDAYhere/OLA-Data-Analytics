{
 "cells": [
  {
   "cell_type": "code",
   "execution_count": null,
   "id": "452947ec-6583-4547-b1c4-cb61cdedda89",
   "metadata": {},
   "outputs": [],
   "source": [
    "import pandas as pd\n",
    "import numpy as np\n",
    "import matplotlib.pyplot as plt\n",
    "import seaborn as sns"
   ]
  },
  {
   "cell_type": "code",
   "execution_count": null,
   "id": "ff11bd3e-86c1-4f74-8282-869c007a124a",
   "metadata": {},
   "outputs": [],
   "source": [
    "# Load the dataset from the previous step\n",
    "# Replace 'bookings_no_duplicates.csv' with the actual file path if not in the same directory\n",
    "file_path = 'bookings_no_duplicates.csv'\n",
    "data_no_duplicates = pd.read_csv(file_path)\n",
    "\n",
    "# Create a copy of the dataset to preserve the loaded data\n",
    "data_corrected = data_no_duplicates.copy()"
   ]
  },
  {
   "cell_type": "code",
   "execution_count": null,
   "id": "17666390-7bb6-4d1b-a254-2ecdacd478f9",
   "metadata": {},
   "outputs": [],
   "source": [
    "# Step 1: Inspect current data types\n",
    "print(\"Current Data Types:\")\n",
    "display(data_corrected.dtypes)\n",
    "print(\"\\nSample Values for All Columns:\")\n",
    "display(data_corrected.head())\n",
    "print(\"\\nSample Values for Canceled_Rides_by_Customer and Canceled_Rides_by_Driver:\")\n",
    "display(data_corrected[['Canceled_Rides_by_Customer', 'Canceled_Rides_by_Driver']].head(10))"
   ]
  },
  {
   "cell_type": "code",
   "execution_count": null,
   "id": "61fec903-d8b7-4231-81b7-c7a30b359381",
   "metadata": {},
   "outputs": [],
   "source": [
    "# Step 2: Handle Date and Time columns\n",
    "if 'Datetime' in data_corrected.columns:\n",
    "    # If Datetime exists, ensure it's datetime64\n",
    "    data_corrected['Datetime'] = pd.to_datetime(data_corrected['Datetime'], errors='coerce')\n",
    "    print(\"\\nDatetime column already exists and is converted to datetime64.\")\n",
    "elif 'Date' in data_corrected.columns and 'Time' in data_corrected.columns:\n",
    "    # If Date and Time exist, convert to Datetime\n",
    "    if data_corrected['Date'].dtype == 'object' or data_corrected['Date'].dtype == 'datetime64[ns]':\n",
    "        data_corrected['Datetime'] = pd.to_datetime(data_corrected['Date'], errors='coerce')\n",
    "    else:\n",
    "        # Fallback for Excel numeric format\n",
    "        data_corrected['Datetime'] = pd.to_datetime(data_corrected['Date'], unit='d', origin='1899-12-30') + pd.to_timedelta(data_corrected['Time'], unit='d')\n",
    "    data_corrected.drop(columns=['Date', 'Time'], inplace=True)\n",
    "    print(\"\\nDate and Time columns combined into Datetime.\")\n",
    "else:\n",
    "    print(\"\\nWarning: Neither 'Datetime' nor 'Date'/'Time' columns found. Please check the dataset.\")"
   ]
  },
  {
   "cell_type": "code",
   "execution_count": null,
   "id": "793ce1e9-a8e3-49ab-b3c7-e24fd5d3249e",
   "metadata": {},
   "outputs": [],
   "source": [
    "# Step 3: Convert columns to appropriate data types\n",
    "# String columns\n",
    "string_columns = ['Booking_ID', 'Customer_ID', 'Pickup_Location', 'Drop_Location', 'Incomplete_Rides_Reason', 'Vehicle Images']\n",
    "for col in string_columns:\n",
    "    if col in data_corrected.columns:\n",
    "        data_corrected[col] = data_corrected[col].astype('string')\n",
    "\n",
    "# Categorical columns\n",
    "categorical_columns = ['Booking_Status', 'Vehicle_Type', 'Payment_Method', 'Incomplete_Rides']\n",
    "for col in categorical_columns:\n",
    "    if col in data_corrected.columns:\n",
    "        data_corrected[col] = data_corrected[col].astype('category')\n",
    "\n",
    "# Numeric columns\n",
    "numeric_columns = ['V_TAT', 'C_TAT', 'Booking_Value', 'Ride_Distance', 'Driver_Ratings', 'Customer_Rating']\n",
    "for col in numeric_columns:\n",
    "    if col in data_corrected.columns:\n",
    "        data_corrected[col] = pd.to_numeric(data_corrected[col], errors='coerce').astype('float64')\n",
    "\n",
    "# Handle Canceled_Rides_by_Customer and Canceled_Rides_by_Driver if they exist\n",
    "for col in ['Canceled_Rides_by_Customer', 'Canceled_Rides_by_Driver']:\n",
    "    if col in data_corrected.columns:\n",
    "        # Check if the column contains non-numeric data\n",
    "        if data_corrected[col].dtype == 'object' and data_corrected[col].str.contains(r'[a-zA-Z]', na=False).any():\n",
    "            print(f\"\\nWarning: {col} contains text data. Converting to string instead of float.\")\n",
    "            data_corrected[col] = data_corrected[col].astype('string')\n",
    "        else:\n",
    "            data_corrected[col] = pd.to_numeric(data_corrected[col], errors='coerce').astype('float64')"
   ]
  },
  {
   "cell_type": "code",
   "execution_count": null,
   "id": "67adad4c-a7fc-4dc2-b31a-1d91bba77c26",
   "metadata": {},
   "outputs": [],
   "source": [
    "# Step 4: Validate data types\n",
    "print(\"\\nData Types After Correction:\")\n",
    "display(data_corrected.dtypes)"
   ]
  },
  {
   "cell_type": "code",
   "execution_count": null,
   "id": "d2a964f3-727a-449c-8213-faba2a7655b1",
   "metadata": {},
   "outputs": [],
   "source": [
    "# Step 5: Save the dataset with corrected data types\n",
    "data_corrected.to_csv('bookings_corrected_datatypes.csv', index=False)\n",
    "print(\"Dataset with corrected data types saved as 'bookings_corrected_datatypes.csv'\")"
   ]
  }
 ],
 "metadata": {
  "kernelspec": {
   "display_name": "Python 3 (ipykernel)",
   "language": "python",
   "name": "python3"
  },
  "language_info": {
   "codemirror_mode": {
    "name": "ipython",
    "version": 3
   },
   "file_extension": ".py",
   "mimetype": "text/x-python",
   "name": "python",
   "nbconvert_exporter": "python",
   "pygments_lexer": "ipython3",
   "version": "3.13.5"
  }
 },
 "nbformat": 4,
 "nbformat_minor": 5
}
